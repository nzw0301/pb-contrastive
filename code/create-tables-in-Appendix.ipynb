{
 "cells": [
  {
   "cell_type": "code",
   "execution_count": 1,
   "metadata": {},
   "outputs": [],
   "source": [
    "import glob\n",
    "import json\n",
    "import sys\n",
    "\n",
    "import numpy as np\n",
    "\n",
    "sys.path.append('contrastive')\n",
    "\n",
    "from contrastive.eval.common import non_iid_bound"
   ]
  },
  {
   "cell_type": "code",
   "execution_count": 2,
   "metadata": {},
   "outputs": [],
   "source": [
    "seeds = [7, 11, 13]\n",
    "num_seeds = len(seeds)"
   ]
  },
  {
   "cell_type": "markdown",
   "metadata": {},
   "source": [
    "## Table 3"
   ]
  },
  {
   "cell_type": "code",
   "execution_count": 3,
   "metadata": {},
   "outputs": [
    {
     "name": "stdout",
     "output_type": "stream",
     "text": [
      "\\avgtwo  & $69.2$ & $64.0$ && $69.7$ & $64.3$ && $69.4$ & $64.2$ &&& $75.2$ & $67.3$ && $74.6$ & $66.4$ && $74.8$ & $66.5$ && $72.3$ & $64.0$ \\\\ \n",
      "\\topone  & $6.8$ & $4.9$ && $6.9$ & $4.9$ && $6.9$ & $5.0$ &&& $20.5$ & $9.6$ && $19.6$ & $9.1$ && $21.0$ & $9.3$ && $14.4$ & $7.5$ \\\\ \n",
      "\\topfive & $22.0$ & $17.1$ && $22.1$ & $17.3$ && $22.5$ & $17.3$ &&& $41.7$ & $23.4$ && $40.8$ & $22.8$ && $41.7$ & $22.9$ && $34.9$ & $20.1$ \\\\\n"
     ]
    }
   ],
   "source": [
    "model = 'non-iid'\n",
    "score_types = ['top', 'avg']\n",
    "\n",
    "algorithms = [\n",
    "    'stochastic',\n",
    "    'deterministic',\n",
    "    'pac-bayes',\n",
    "    'arora',\n",
    "    'catoni-stochastic',\n",
    "    'catoni-deterministic',\n",
    "    'catoni-pac-bayes'\n",
    "]\n",
    "\n",
    "\n",
    "table_data = {}\n",
    "for algorithm in algorithms:\n",
    "    results = {'top1': [], 'top5': [], 'mu5-top1': [], 'mu5-top5': [], 'avg2': [], 'mu5-avg2': []}    \n",
    "    for score_type in score_types:\n",
    "        for seed in seeds:\n",
    "            fname = 'results/{}/{}-{}-{}.json'.format(model, algorithm, score_type, seed)\n",
    "            data = json.load(open(fname))\n",
    "            for k, v in data.items():\n",
    "                results[k].append(v)\n",
    "    table_data[algorithm] = results\n",
    "\n",
    "\n",
    "avg2_row = '\\\\avgtwo  & '\n",
    "top1_row = '\\\\topone  & '\n",
    "top5_row = '\\\\topfive & '\n",
    "\n",
    "score_format = '${:.1f}$'.format\n",
    "for k, data in table_data.items():\n",
    "\n",
    "    top1_row += score_format(np.array(data['top1']).mean())\n",
    "    top1_row += ' & '\n",
    "    top1_row += score_format(np.array(data['mu5-top1']).mean())    \n",
    "\n",
    "    top5_row += score_format(np.array(data['top5']).mean())\n",
    "    top5_row += ' & '\n",
    "    top5_row += score_format(np.array(data['mu5-top5']).mean())\n",
    "\n",
    "    avg2_row += score_format(np.array(data['avg2']).mean())\n",
    "    avg2_row += ' & '\n",
    "    avg2_row += score_format(np.array(data['mu5-avg2']).mean())\n",
    "\n",
    "    if k == 'pac-bayes':\n",
    "        separator = ' &&& '\n",
    "    else:\n",
    "        separator = ' && '\n",
    "    top1_row += separator\n",
    "    top5_row += separator\n",
    "    avg2_row += separator\n",
    "    \n",
    "print('\\\\\\\\ \\n'.join([avg2_row[:-3], top1_row[:-3], top5_row[:-3]]) + '\\\\\\\\')\n"
   ]
  },
  {
   "cell_type": "code",
   "execution_count": 4,
   "metadata": {},
   "outputs": [],
   "source": [
    "def get_best_model_name(model_name_dir, criterion_key_in_json='lowest_val_loss'):\n",
    "\n",
    "    if model_name_dir[-1] == '/':\n",
    "        model_name_dir = model_name_dir[:-1]\n",
    "    fnames = glob.glob('{}/*.json'.format(model_name_dir))\n",
    "\n",
    "    lowest_val_loss = np.finfo(np.float(0.)).max\n",
    "\n",
    "    best_model_fname = ''\n",
    "    for fname in fnames:\n",
    "        result = json.load(open(fname))\n",
    "        if criterion_key_in_json not in result:\n",
    "            print('{} field is not found in {}'.format(criterion_key_in_json, fname))\n",
    "            continue\n",
    "\n",
    "        if result[criterion_key_in_json] < lowest_val_loss:\n",
    "            lowest_val_loss = result[criterion_key_in_json]\n",
    "            best_model_fname = fname\n",
    "\n",
    "    return best_model_fname.replace('json', 'pt')\n"
   ]
  },
  {
   "cell_type": "code",
   "execution_count": 5,
   "metadata": {},
   "outputs": [],
   "source": [
    "float_format = ' ${:.3f}$ &'.format\n",
    "line_break = '\\\\\\\\'"
   ]
  },
  {
   "cell_type": "markdown",
   "metadata": {},
   "source": [
    "## Table 4: bounds on NAUSLAN"
   ]
  },
  {
   "cell_type": "code",
   "execution_count": 6,
   "metadata": {},
   "outputs": [
    {
     "name": "stdout",
     "output_type": "stream",
     "text": [
      " non-iid PAC-Bayes 13 2.22123885120886663559\r"
     ]
    }
   ],
   "source": [
    "val_algorithms = [\n",
    "    'stochastic',\n",
    "    'deterministic',\n",
    "]\n",
    "\n",
    "results = []\n",
    "\n",
    "chi_square_format = ' ${:.3f}$ &'.format\n",
    "\n",
    "empty_cell = ' -- &'\n",
    "\n",
    "model = 'non-iid'\n",
    "\n",
    "emp_risk_row = '$\\\\Runhat(\\\\Qcal)$ &'\n",
    "test_risk_row = '$\\\\Run(\\\\Qcal)$ &'\n",
    "emp_risk_f_row = '$\\\\Runhat(\\\\fbf^*)$ &'\n",
    "test_risk_f_row = '$\\\\Run(\\\\fbf^*)$ &'\n",
    "bound_row = 'Bound &'\n",
    "chi_row = '$\\\\chi^2$ &'\n",
    "\n",
    "# calculate PAC-Bayes bound and risks for best stochastic/deterministic models with respect to validation risk.\n",
    "for algorithm in val_algorithms:\n",
    "    emp_risk = 0. \n",
    "    test_risk = 0.\n",
    "    emp_risk_f = 0. \n",
    "    test_risk_f = 0.\n",
    "    bound = 0.\n",
    "    chi_square = 0.\n",
    "\n",
    "    for seed in seeds:\n",
    "        fname = get_best_model_name(model_name_dir='weights/{}/{}/seed-{}'.format(model, algorithm, seed))\n",
    "        data = json.load(open('./bounds/{}/pac-bayes-{}-{}.json'.format(model, seed, algorithm)))\n",
    "        terms = data[fname]\n",
    "\n",
    "        terms_f = json.load(open('./bounds/{}/pac-bayes-{}-{}-det.json'.format(model, seed, algorithm)))[fname]\n",
    "        emp_risk_f += terms_f['train-zero-one-loss']\n",
    "        test_risk_f += terms_f['test-zero-one-loss']\n",
    "        del terms_f\n",
    "\n",
    "        pb_bound = non_iid_bound(terms)\n",
    "\n",
    "        print('\\r', model, algorithm, seed, pb_bound, end='')\n",
    "\n",
    "        emp_risk += terms['train-zero-one-loss']\n",
    "        test_risk += terms['test-zero-one-loss']\n",
    "        bound += pb_bound\n",
    "        chi_square +=  terms['chi_square']\n",
    "\n",
    "    emp_risk_row += float_format(emp_risk / num_seeds)\n",
    "    test_risk_row +=  float_format(test_risk / num_seeds)\n",
    "    emp_risk_f_row += float_format(emp_risk_f / num_seeds)\n",
    "    test_risk_f_row +=  float_format(test_risk_f / num_seeds)        \n",
    "    bound_row += float_format(bound / num_seeds)\n",
    "    chi_row += chi_square_format(chi_square / num_seeds)\n",
    "\n",
    "# calculate PAC-Bayes bound and risks for best models with respect to the PAC-Bayes bound.\n",
    "emp_risk = 0.\n",
    "test_risk = 0.\n",
    "emp_risk_f = 0.\n",
    "test_risk_f = 0.    \n",
    "bound = 0.\n",
    "chi_square = 0.\n",
    "\n",
    "for seed in seeds:\n",
    "    data = json.load(open('./bounds/{}/pac-bayes-{}.json'.format(model, seed)))\n",
    "    data_f = json.load(open('./bounds/{}/pac-bayes-{}-det.json'.format(model, seed)))\n",
    "\n",
    "    best_terms = {}\n",
    "    best_terms_f = {}\n",
    "    best_bound = np.finfo(np.float(0.)).max\n",
    "    for k, terms in data.items():\n",
    "        pb_bound = non_iid_bound(terms)\n",
    "        if pb_bound < best_bound:\n",
    "            best_terms = terms\n",
    "            best_bound = pb_bound\n",
    "            best_terms_f = data_f[k]\n",
    "\n",
    "    print('\\r', model, 'PAC-Bayes', seed, best_bound, end='')\n",
    "\n",
    "    emp_risk += best_terms['train-zero-one-loss']\n",
    "    test_risk += best_terms['test-zero-one-loss']\n",
    "    emp_risk_f += best_terms_f['train-zero-one-loss']\n",
    "    test_risk_f += best_terms_f['test-zero-one-loss']\n",
    "    bound += best_bound\n",
    "    chi_square +=  best_terms['chi_square']\n",
    "\n",
    "print('\\r', end='')\n",
    "\n",
    "separator = '\\\\\\\\ '\n",
    "emp_risk_row += float_format(emp_risk / num_seeds) + separator\n",
    "test_risk_row += float_format(test_risk / num_seeds ) + separator\n",
    "emp_risk_f_row += float_format(emp_risk_f / num_seeds) + separator\n",
    "test_risk_f_row += float_format(test_risk_f / num_seeds ) + separator\n",
    "bound_row += float_format(bound / num_seeds) + separator\n",
    "chi_row += chi_square_format( chi_square / num_seeds) + separator\n",
    "results.append('\\n'.join([emp_risk_f_row, test_risk_f_row, emp_risk_row, test_risk_row, bound_row, chi_row]))\n"
   ]
  },
  {
   "cell_type": "code",
   "execution_count": 7,
   "metadata": {},
   "outputs": [
    {
     "name": "stdout",
     "output_type": "stream",
     "text": [
      "$\\Runhat(\\fbf^*)$ & $0.056$ & $0.073$ & $0.033$ \\\\ \n",
      "$\\Run(\\fbf^*)$ & $0.089$ & $0.103$ & $0.074$ \\\\ \n",
      "$\\Runhat(\\Qcal)$ & $0.058$ & $0.065$ & $0.058$ \\\\ \n",
      "$\\Run(\\Qcal)$ & $0.106$ & $0.108$ & $0.097$ \\\\ \n",
      "Bound & $4.460$ & $140.949$ & $2.227$ \\\\ \n",
      "$\\chi^2$ & $0.012$ & $980.354$ & $0.052$ \\\\ \n"
     ]
    }
   ],
   "source": [
    "print(''.join(results).replace(',', '\\\\,').replace('&\\\\\\\\', '\\\\\\\\'))"
   ]
  },
  {
   "cell_type": "code",
   "execution_count": null,
   "metadata": {},
   "outputs": [],
   "source": []
  }
 ],
 "metadata": {
  "@webio": {
   "lastCommId": null,
   "lastKernelId": null
  },
  "kernelspec": {
   "display_name": "Python 3",
   "language": "python",
   "name": "python3"
  },
  "language_info": {
   "codemirror_mode": {
    "name": "ipython",
    "version": 3
   },
   "file_extension": ".py",
   "mimetype": "text/x-python",
   "name": "python",
   "nbconvert_exporter": "python",
   "pygments_lexer": "ipython3",
   "version": "3.7.4"
  },
  "pycharm": {
   "stem_cell": {
    "cell_type": "raw",
    "metadata": {
     "collapsed": false
    },
    "source": []
   }
  }
 },
 "nbformat": 4,
 "nbformat_minor": 2
}
