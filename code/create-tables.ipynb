{
 "cells": [
  {
   "cell_type": "code",
   "execution_count": 1,
   "metadata": {},
   "outputs": [],
   "source": [
    "import glob\n",
    "import json\n",
    "\n",
    "import numpy as np"
   ]
  },
  {
   "cell_type": "code",
   "execution_count": 2,
   "metadata": {},
   "outputs": [],
   "source": [
    "seeds = [7, 11, 13]\n",
    "models = ['cnn', 'mlp']\n",
    "num_seeds = len(seeds)"
   ]
  },
  {
   "cell_type": "markdown",
   "metadata": {},
   "source": [
    "## Table 1"
   ]
  },
  {
   "cell_type": "code",
   "execution_count": 3,
   "metadata": {},
   "outputs": [],
   "source": [
    "score_types = ['top', 'avg']\n",
    "\n",
    "algorithms = [\n",
    "    'sup',\n",
    "    'arora',\n",
    "    'stochastic',    \n",
    "    'deterministic',\n",
    "    'pac-bayes'\n",
    "]"
   ]
  },
  {
   "cell_type": "code",
   "execution_count": 4,
   "metadata": {},
   "outputs": [
    {
     "name": "stdout",
     "output_type": "stream",
     "text": [
      "& \\avgtwo & $91.4$ & $87.6$ && $89.4$ & $85.5$ && $87.5$ & $83.4$ && $90.0$ & $87.1$ && $75.2$ & $70.9$ \\\\ \n",
      "& \\topone & $25.3$ & $17.2$ && $22.5$ & $15.0$ && $16.9$ & $12.2$ && $21.4$ & $16.2$ && $6.8$ & $5.5$ \\\\ \n",
      "& \\topfive & $57.8$ & $46.1$ && $52.9$ & $42.7$ && $46.2$ & $37.0$ && $54.0$ & $45.4$ && $23.0$ & $19.6$ \\\\\n",
      "\\midrule\n",
      "\\multicolumn{2}{c}{\\texttt{AUSLAN}} \\\\\n",
      "& \\avgtwo & $79.1$ & $74.0$ && $76.1$ & $68.5$ && $76.2$ & $69.1$ && $76.4$ & $69.7$ && $74.6$ & $67.5$ \\\\ \n",
      "& \\topone & $12.2$ & $7.5$ && $23.2$ & $11.4$ && $24.9$ & $11.6$ && $26.0$ & $12.4$ && $19.6$ & $9.9$ \\\\ \n",
      "& \\topfive & $35.5$ & $24.8$ && $45.4$ & $26.0$ && $45.5$ & $26.9$ && $46.6$ & $27.8$ && $40.8$ & $24.3$ \\\\\n"
     ]
    }
   ],
   "source": [
    "for model in models:\n",
    "    table_1_data = {}\n",
    "    for algorithm in algorithms:\n",
    "        results = {'top1': [], 'top5': [], 'mu5-top1': [], 'mu5-top5': [], 'avg2': [], 'mu5-avg2': []}    \n",
    "        for score_type in score_types:\n",
    "            for seed in seeds:\n",
    "                fname = 'results/{}/{}-{}-{}.json'.format(model, algorithm, score_type, seed)\n",
    "                data = json.load(open(fname))\n",
    "                for k, v in data.items():\n",
    "                    results[k].append(v)\n",
    "        table_1_data[algorithm] = results\n",
    "\n",
    "\n",
    "    top1_row = '& \\\\topone & '\n",
    "    top5_row = '& \\\\topfive & '\n",
    "    avg2_row = '& \\\\avgtwo & '\n",
    "\n",
    "    score_format = '${:.1f}$'.format\n",
    "    for k, data in table_1_data.items():\n",
    "\n",
    "        top1_row += score_format(np.array(data['top1']).mean())\n",
    "        top1_row += ' & '\n",
    "        top1_row += score_format(np.array(data['mu5-top1']).mean())\n",
    "        top1_row += ' && '\n",
    "\n",
    "        top5_row += score_format(np.array(data['top5']).mean())\n",
    "        top5_row += ' & '\n",
    "        top5_row += score_format(np.array(data['mu5-top5']).mean())\n",
    "        top5_row += ' && '\n",
    "\n",
    "        avg2_row += score_format(np.array(data['avg2']).mean())\n",
    "        avg2_row += ' & '\n",
    "        avg2_row += score_format(np.array(data['mu5-avg2']).mean())\n",
    "        avg2_row += ' && '\n",
    "    print('\\\\\\\\ \\n'.join([avg2_row[:-3], top1_row[:-3], top5_row[:-3]]) + '\\\\\\\\')\n",
    "    if model == 'cnn':\n",
    "        print('\\\\midrule\\n\\\\multicolumn{2}{c}{\\\\texttt{AUSLAN}} \\\\\\\\')"
   ]
  },
  {
   "cell_type": "markdown",
   "metadata": {},
   "source": [
    "## Table 2"
   ]
  },
  {
   "cell_type": "code",
   "execution_count": 5,
   "metadata": {},
   "outputs": [],
   "source": [
    "def get_best_model_name(model_name_dir, criterion_key_in_json='lowest_val_loss'):\n",
    "\n",
    "    if model_name_dir[-1] == '/':\n",
    "        model_name_dir = model_name_dir[:-1]\n",
    "    fnames = glob.glob('{}/*.json'.format(model_name_dir))\n",
    "\n",
    "    lowest_val_loss = np.finfo(np.float(0.)).max\n",
    "\n",
    "    best_model_fname = ''\n",
    "    for fname in fnames:\n",
    "        result = json.load(open(fname))\n",
    "        if criterion_key_in_json not in result:\n",
    "            print('{} field is not found in {}'.format(criterion_key_in_json, fname))\n",
    "            continue\n",
    "\n",
    "        if result[criterion_key_in_json] < lowest_val_loss:\n",
    "            lowest_val_loss = result[criterion_key_in_json]\n",
    "            best_model_fname = fname\n",
    "\n",
    "    return best_model_fname.replace('json', 'pt')\n"
   ]
  },
  {
   "cell_type": "code",
   "execution_count": 6,
   "metadata": {},
   "outputs": [],
   "source": [
    "def get_optimal(terms):\n",
    "    lambda_array = np.arange(10, 10**7, 1)\n",
    "    bounds = catoni_bound(lambda_array, terms)\n",
    "    optimized_pb_bound = min(bounds)\n",
    "    optimal_lambda = lambda_array[np.argmin(bounds)]\n",
    "    return optimal_lambda, optimized_pb_bound\n",
    "\n",
    "def catoni_bound(l, terms):\n",
    "    M = terms['m']\n",
    "    inner_exp = l / M  * terms['train-zero-one-loss'] + (terms['complexity'] + 2 * np.sqrt(M)) / M\n",
    "    return (1. - np.exp(-inner_exp)) / (1. - np.exp(- l / M))        \n"
   ]
  },
  {
   "cell_type": "code",
   "execution_count": 7,
   "metadata": {},
   "outputs": [
    {
     "name": "stdout",
     "output_type": "stream",
     "text": [
      " mlp PAC-Bayes 13 0.03419844690707931 195535 10000.0000.0\r"
     ]
    }
   ],
   "source": [
    "float_format = ' ${:.3f}$ &'.format\n",
    "lambda_format = ' $10^{}$ &'.format\n",
    "kl_format = ' ${:,d}$ &'.format\n",
    "optimal_lambda_format = ' ${:,}$ &'.format\n",
    "line_break = '\\\\\\\\'\n",
    "\n",
    "val_algorithms = [\n",
    "    'stochastic',\n",
    "    'deterministic',\n",
    "]\n",
    "\n",
    "results = []\n",
    "\n",
    "for model in models:\n",
    "    emp_risk_row = '& $\\\\Runhat(\\\\Qcal)$ & '\n",
    "    test_risk_row = '& $\\\\Run(\\\\Qcal)$ &'\n",
    "    emp_risk_f_row = '& $\\\\Runhat(\\\\fbf^*)$ & '\n",
    "    test_risk_f_row = '& $\\\\Run(\\\\fbf^*)$ &'\n",
    "    bound_row = '& Bound &'\n",
    "    kl_row = '& $\\\\KL$ &'\n",
    "    fixed_lambda_row = '& $\\\\lambda\\\\times m$ &'\n",
    "    optimal_lambda_row = '& $\\widehat{\\lambda}\\\\times m$ &'\n",
    "    \n",
    "    for algorithm in val_algorithms:\n",
    "        emp_risk = 0. \n",
    "        test_risk = 0.\n",
    "        emp_risk_f = 0. \n",
    "        test_risk_f = 0.\n",
    "        bound = 0.\n",
    "        kl = 0.\n",
    "        fixed_lambda = 0.\n",
    "        sum_optimal_lambda = 0.\n",
    "        for seed in seeds:\n",
    "            fname = get_best_model_name(model_name_dir='weights/{}/{}/seed-{}'.format(model, algorithm, seed))\n",
    "            data = json.load(open('./bounds/{}/pac-bayes-{}-{}.json'.format(model, seed, algorithm)))\n",
    "            terms = data[fname]\n",
    "            \n",
    "            terms_f = json.load(open('./bounds/{}/pac-bayes-{}-{}-det.json'.format(model, seed, algorithm)))[fname]\n",
    "            emp_risk_f += terms_f['train-zero-one-loss']\n",
    "            test_risk_f += terms_f['test-zero-one-loss']\n",
    "            del terms_f\n",
    "\n",
    "            optimal_lambda, optimized_pb_bound = get_optimal(terms)\n",
    "            \n",
    "            print('\\r', model, algorithm, seed, optimized_pb_bound, optimal_lambda, terms['lambda'], end='')\n",
    "\n",
    "            emp_risk += terms['train-zero-one-loss']\n",
    "            test_risk += terms['test-zero-one-loss']\n",
    "            bound += optimized_pb_bound\n",
    "            kl +=  terms['kl']\n",
    "            fixed_lambda += terms['lambda']\n",
    "            sum_optimal_lambda += optimal_lambda\n",
    "            \n",
    "        emp_risk_row += float_format(emp_risk / num_seeds)\n",
    "        test_risk_row +=  float_format(test_risk / num_seeds)\n",
    "        emp_risk_f_row += float_format(emp_risk_f / num_seeds)\n",
    "        test_risk_f_row +=  float_format(test_risk_f / num_seeds)        \n",
    "        bound_row += float_format(bound / num_seeds)\n",
    "        kl_row += kl_format(int(kl / num_seeds))\n",
    "        fixed_lambda_row +=  lambda_format(int(np.log10(fixed_lambda/num_seeds)))\n",
    "        optimal_lambda_row += optimal_lambda_format(int(sum_optimal_lambda / num_seeds))\n",
    "    \n",
    "    # PAC-Bayes\n",
    "    emp_risk = 0.\n",
    "    test_risk = 0.\n",
    "    emp_risk_f = 0.\n",
    "    test_risk_f = 0.    \n",
    "    bound = 0.\n",
    "    kl = 0.\n",
    "    fixed_lambda = 0.\n",
    "    sum_optimal_lambda = 0.    \n",
    "    for seed in seeds:\n",
    "        data = json.load(open('./bounds/{}/pac-bayes-{}.json'.format(model, seed)))\n",
    "        data_f = json.load(open('./bounds/{}/pac-bayes-{}-det.json'.format(model, seed)))\n",
    "        \n",
    "        best_l = 0\n",
    "        best_bound = 10**7.\n",
    "        best_terms = {}\n",
    "        best_terms_f = {}\n",
    "        for k, terms in data.items():\n",
    "            optimal_lambda, optimized_pb_bound = get_optimal(terms)\n",
    "            if optimized_pb_bound < best_bound:\n",
    "                best_l = optimal_lambda\n",
    "                best_terms = terms\n",
    "                best_bound = optimized_pb_bound\n",
    "                best_terms_f = data_f[k]               \n",
    "\n",
    "        print('\\r', model, 'PAC-Bayes', seed, best_bound, best_l, best_terms['lambda'], end='')\n",
    "\n",
    "        emp_risk += best_terms['train-zero-one-loss']\n",
    "        test_risk += best_terms['test-zero-one-loss']\n",
    "        emp_risk_f += best_terms_f['train-zero-one-loss']\n",
    "        test_risk_f += best_terms_f['test-zero-one-loss']\n",
    "        bound += best_bound\n",
    "        kl +=  int(best_terms['kl'])\n",
    "        fixed_lambda += best_terms['lambda']\n",
    "        sum_optimal_lambda += best_l\n",
    "        \n",
    "    print('\\r', end='')\n",
    "\n",
    "    emp_risk_row += float_format(emp_risk / num_seeds) + line_break\n",
    "    test_risk_row += float_format(test_risk / num_seeds ) + line_break\n",
    "    emp_risk_f_row += float_format(emp_risk_f / num_seeds) + line_break\n",
    "    test_risk_f_row += float_format(test_risk_f / num_seeds ) + line_break    \n",
    "    bound_row += float_format(bound / num_seeds) + line_break\n",
    "    kl_row += kl_format( int(kl / num_seeds))  + line_break\n",
    "    fixed_lambda_row += lambda_format(int(np.log10(fixed_lambda / num_seeds))) + line_break\n",
    "    optimal_lambda_row += optimal_lambda_format(int(sum_optimal_lambda / num_seeds)) + line_break\n",
    "\n",
    "    results.append('\\n'.join([emp_risk_f_row, test_risk_f_row, emp_risk_row, test_risk_row, bound_row, kl_row, fixed_lambda_row, optimal_lambda_row]))\n",
    "\n",
    "    if model == 'cnn':\n",
    "        results.append('\\n\\\\midrule\\n\\\\multicolumn{2}{l}{\\\\texttt{AUSLAN}} \\\\\\\\\\n')"
   ]
  },
  {
   "cell_type": "code",
   "execution_count": 8,
   "metadata": {},
   "outputs": [
    {
     "name": "stdout",
     "output_type": "stream",
     "text": [
      "& $\\Runhat(\\fbf^*)$ &  $0.154$ & $0.131$ & $0.308$ \\\\\n",
      "& $\\Run(\\fbf^*)$ & $0.189$ & $0.167$ & $0.315$ \\\\\n",
      "& $\\Runhat(\\Qcal)$ &  $0.179$ & $0.170$ & $0.324$ \\\\\n",
      "& $\\Run(\\Qcal)$ & $0.207$ & $0.197$ & $0.330$ \\\\\n",
      "& Bound & $0.735$ & $0.721$ & $0.455$ \\\\\n",
      "& $\\KL$ & $31\\,707$ & $30\\,894$ & $1\\,342$ \\\\\n",
      "& $\\lambda\\times m$ & $10^5$ & $10^5$ & $10^4$ \\\\\n",
      "& $\\widehat{\\lambda}\\times m$ & $120\\,915$ & $120\\,470$ & $27\\,954$ \\\\\n",
      "\\midrule\n",
      "\\multicolumn{2}{l}{\\texttt{AUSLAN}} \\\\\n",
      "& $\\Runhat(\\fbf^*)$ &  $0.001$ & $0.000$ & $0.032$ \\\\\n",
      "& $\\Run(\\fbf^*)$ & $0.006$ & $0.005$ & $0.091$ \\\\\n",
      "& $\\Runhat(\\Qcal)$ &  $0.001$ & $0.001$ & $0.005$ \\\\\n",
      "& $\\Run(\\Qcal)$ & $0.007$ & $0.008$ & $0.020$ \\\\\n",
      "& Bound & $0.069$ & $0.068$ & $0.034$ \\\\\n",
      "& $\\KL$ & $5\\,064$ & $4\\,996$ & $1\\,369$ \\\\\n",
      "& $\\lambda\\times m$ & $10^5$ & $10^5$ & $10^4$ \\\\\n",
      "& $\\widehat{\\lambda}\\times m$ & $366\\,842$ & $368\\,916$ & $196\\,729$ \\\\\n"
     ]
    }
   ],
   "source": [
    "print(''.join(results).replace(',', '\\\\,').replace('&\\\\\\\\', '\\\\\\\\'))"
   ]
  },
  {
   "cell_type": "code",
   "execution_count": null,
   "metadata": {},
   "outputs": [],
   "source": []
  }
 ],
 "metadata": {
  "@webio": {
   "lastCommId": null,
   "lastKernelId": null
  },
  "kernelspec": {
   "display_name": "Python 3",
   "language": "python",
   "name": "python3"
  },
  "language_info": {
   "codemirror_mode": {
    "name": "ipython",
    "version": 3
   },
   "file_extension": ".py",
   "mimetype": "text/x-python",
   "name": "python",
   "nbconvert_exporter": "python",
   "pygments_lexer": "ipython3",
   "version": "3.7.4"
  },
  "pycharm": {
   "stem_cell": {
    "cell_type": "raw",
    "metadata": {
     "collapsed": false
    },
    "source": []
   }
  }
 },
 "nbformat": 4,
 "nbformat_minor": 2
}
