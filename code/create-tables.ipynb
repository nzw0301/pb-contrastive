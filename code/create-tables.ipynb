{
 "cells": [
  {
   "cell_type": "code",
   "execution_count": 1,
   "metadata": {},
   "outputs": [],
   "source": [
    "import glob\n",
    "import json\n",
    "import sys\n",
    "\n",
    "import numpy as np\n",
    "\n",
    "sys.path.append('contrastive')"
   ]
  },
  {
   "cell_type": "code",
   "execution_count": 2,
   "metadata": {},
   "outputs": [],
   "source": [
    "seeds = [7, 11, 13]\n",
    "num_seeds = len(seeds)"
   ]
  },
  {
   "cell_type": "markdown",
   "metadata": {},
   "source": [
    "## Table 1: Comparing performances"
   ]
  },
  {
   "cell_type": "code",
   "execution_count": 3,
   "metadata": {},
   "outputs": [],
   "source": [
    "score_types = ['top', 'avg']\n",
    "\n",
    "algorithms = [\n",
    "    'sup',\n",
    "    'arora',\n",
    "    'stochastic',\n",
    "    'deterministic',\n",
    "    'pac-bayes'\n",
    "]"
   ]
  },
  {
   "cell_type": "code",
   "execution_count": 4,
   "metadata": {},
   "outputs": [
    {
     "name": "stdout",
     "output_type": "stream",
     "text": [
      "& \\avgtwo  & $91.4$ & $87.5$ && $89.4$ & $85.6$ && $87.7$ & $83.9$ && $90.0$ & $87.2$ && $75.4$ & $70.8$ \\\\ \n",
      "& \\topone  & $25.3$ & $16.8$ && $22.5$ & $15.6$ && $17.3$ & $12.7$ && $21.4$ & $16.0$ && $6.9$ & $5.4$ \\\\ \n",
      "& \\topfive & $57.8$ & $46.0$ && $52.9$ & $42.6$ && $46.9$ & $38.3$ && $54.0$ & $45.2$ && $23.4$ & $19.4$ \\\\\n",
      "\\midrule\n",
      "\\multicolumn{2}{c}{\\auslan} \\\\\n",
      "& \\avgtwo  & $80.2$ & $75.1$ && $85.6$ & $83.3$ && $85.3$ & $82.7$ && $85.3$ & $82.9$ && $82.6$ & $79.1$ \\\\ \n",
      "& \\topone  & $12.0$ & $7.1$ && $38.0$ & $24.9$ && $36.1$ & $23.7$ && $37.1$ & $24.7$ && $23.2$ & $14.8$ \\\\ \n",
      "& \\topfive & $35.7$ & $24.1$ && $56.7$ & $48.2$ && $56.2$ & $47.7$ && $56.5$ & $49.1$ && $50.6$ & $38.4$ \\\\\n"
     ]
    }
   ],
   "source": [
    "models = ['cnn', 'mlp']\n",
    "\n",
    "for model in models:\n",
    "    table_1_data = {}\n",
    "    for algorithm in algorithms:\n",
    "        results = {'top1': [], 'top5': [], 'mu5-top1': [], 'mu5-top5': [], 'avg2': [], 'mu5-avg2': []}    \n",
    "        for score_type in score_types:\n",
    "            for seed in seeds:\n",
    "                fname = 'results/{}/{}-{}-{}.json'.format(model, algorithm, score_type, seed)\n",
    "                data = json.load(open(fname))\n",
    "                for k, v in data.items():\n",
    "                    results[k].append(v)\n",
    "        table_1_data[algorithm] = results\n",
    "\n",
    "\n",
    "    avg2_row = '& \\\\avgtwo  & '\n",
    "    top1_row = '& \\\\topone  & '\n",
    "    top5_row = '& \\\\topfive & '\n",
    "\n",
    "    score_format = '${:.1f}$'.format\n",
    "    for k, data in table_1_data.items():\n",
    "\n",
    "        top1_row += score_format(np.array(data['top1']).mean())\n",
    "        top1_row += ' & '\n",
    "        top1_row += score_format(np.array(data['mu5-top1']).mean())\n",
    "        top1_row += ' && '\n",
    "\n",
    "        top5_row += score_format(np.array(data['top5']).mean())\n",
    "        top5_row += ' & '\n",
    "        top5_row += score_format(np.array(data['mu5-top5']).mean())\n",
    "        top5_row += ' && '\n",
    "\n",
    "        avg2_row += score_format(np.array(data['avg2']).mean())\n",
    "        avg2_row += ' & '\n",
    "        avg2_row += score_format(np.array(data['mu5-avg2']).mean())\n",
    "        avg2_row += ' && '\n",
    "    print('\\\\\\\\ \\n'.join([avg2_row[:-3], top1_row[:-3], top5_row[:-3]]) + '\\\\\\\\')\n",
    "    if model == 'cnn':\n",
    "        print('\\\\midrule\\n\\\\multicolumn{2}{c}{\\\\auslan} \\\\\\\\')\n"
   ]
  },
  {
   "cell_type": "markdown",
   "metadata": {},
   "source": [
    "## Table 2: Report generalisation error bounds"
   ]
  },
  {
   "cell_type": "code",
   "execution_count": 5,
   "metadata": {},
   "outputs": [],
   "source": [
    "def get_best_model_name(model_name_dir, criterion_key_in_json='lowest_val_loss'):\n",
    "\n",
    "    if model_name_dir[-1] == '/':\n",
    "        model_name_dir = model_name_dir[:-1]\n",
    "    fnames = glob.glob('{}/*.json'.format(model_name_dir))\n",
    "\n",
    "    lowest_val_loss = np.finfo(np.float(0.)).max\n",
    "\n",
    "    best_model_fname = ''\n",
    "    for fname in fnames:\n",
    "        result = json.load(open(fname))\n",
    "        if criterion_key_in_json not in result:\n",
    "            print('{} field is not found in {}'.format(criterion_key_in_json, fname))\n",
    "            continue\n",
    "\n",
    "        if result[criterion_key_in_json] < lowest_val_loss:\n",
    "            lowest_val_loss = result[criterion_key_in_json]\n",
    "            best_model_fname = fname\n",
    "\n",
    "    return best_model_fname.replace('json', 'pt')\n"
   ]
  },
  {
   "cell_type": "code",
   "execution_count": 6,
   "metadata": {},
   "outputs": [],
   "source": [
    "def get_optimal(terms) -> tuple:\n",
    "    lambda_array = np.arange(10, 10**7, 1)\n",
    "    bounds = catoni_bound(lambda_array, terms)\n",
    "    optimized_pb_bound = min(bounds)\n",
    "    optimal_lambda = lambda_array[np.argmin(bounds)]\n",
    "    return optimal_lambda, optimized_pb_bound\n",
    "\n",
    "\n",
    "def catoni_bound(l, terms) -> np.ndarray:\n",
    "    M = terms['m']\n",
    "    inner_exp = l / M  * terms['train-zero-one-loss'] + (terms['complexity'] + np.log(2 * np.sqrt(M))) / M\n",
    "    return (1. - np.exp(-inner_exp)) / (1. - np.exp(- l / M))        \n"
   ]
  },
  {
   "cell_type": "code",
   "execution_count": 7,
   "metadata": {},
   "outputs": [],
   "source": [
    "float_format = ' ${:.3f}$ &'.format\n",
    "lambda_format = ' $10^{}$ &'.format\n",
    "kl_format = ' ${:,d}$ &'.format\n",
    "optimal_lambda_format = ' ${:,}$ &'.format\n",
    "line_break = '\\\\\\\\'\n",
    "models = ['cnn', 'mlp']\n",
    "\n",
    "val_algorithms = [\n",
    "    'stochastic',\n",
    "    'deterministic',\n",
    "]\n"
   ]
  },
  {
   "cell_type": "code",
   "execution_count": 8,
   "metadata": {},
   "outputs": [
    {
     "name": "stdout",
     "output_type": "stream",
     "text": [
      " mlp PAC-Bayes 13 0.35948840829406326 45670 10000.000.00\r"
     ]
    }
   ],
   "source": [
    "# CNN and iid AUSLAN\n",
    "\n",
    "results = []\n",
    "\n",
    "for model in models:\n",
    "    emp_risk_row = '& $\\\\Runhat(\\\\Qcal)$ &'\n",
    "    test_risk_row = '& $\\\\Run(\\\\Qcal)$ &'\n",
    "    emp_risk_f_row = '& $\\\\Runhat(\\\\fbf^*)$ &'\n",
    "    test_risk_f_row = '& $\\\\Run(\\\\fbf^*)$ &'\n",
    "    bound_row = '& Bound &'\n",
    "    kl_row = '& $\\\\KL$ &'\n",
    "    fixed_lambda_row = '& $\\\\lambda\\\\times m$ &'\n",
    "    optimal_lambda_row = '& $\\widehat{\\lambda}\\\\times m$ &'\n",
    "    \n",
    "    # calculate PAC-Bayes bound and risks for best stochastic/deterministic models with respect to validation risk.\n",
    "    for algorithm in val_algorithms:\n",
    "        emp_risk = 0. \n",
    "        test_risk = 0.\n",
    "        emp_risk_f = 0. \n",
    "        test_risk_f = 0.\n",
    "        bound = 0.\n",
    "        kl = 0.\n",
    "        fixed_lambda = 0.\n",
    "        sum_optimal_lambda = 0.\n",
    "        for seed in seeds:\n",
    "            fname = get_best_model_name(model_name_dir='weights/{}/{}/seed-{}'.format(model, algorithm, seed))\n",
    "            data = json.load(open('./bounds/{}/pac-bayes-{}-{}.json'.format(model, seed, algorithm)))\n",
    "            terms = data[fname]\n",
    "            \n",
    "            terms_f = json.load(open('./bounds/{}/pac-bayes-{}-{}-det.json'.format(model, seed, algorithm)))[fname]\n",
    "            emp_risk_f += terms_f['train-zero-one-loss']\n",
    "            test_risk_f += terms_f['test-zero-one-loss']\n",
    "            del terms_f\n",
    "\n",
    "            optimal_lambda, optimized_pb_bound = get_optimal(terms)\n",
    "            \n",
    "            print('\\r', model, algorithm, seed, optimized_pb_bound, optimal_lambda, terms['lambda'], end='')\n",
    "\n",
    "            emp_risk += terms['train-zero-one-loss']\n",
    "            test_risk += terms['test-zero-one-loss']\n",
    "            bound += optimized_pb_bound\n",
    "            kl +=  terms['kl']\n",
    "            fixed_lambda += terms['lambda']\n",
    "            sum_optimal_lambda += optimal_lambda\n",
    "            \n",
    "        emp_risk_row += float_format(emp_risk / num_seeds)\n",
    "        test_risk_row +=  float_format(test_risk / num_seeds)\n",
    "        emp_risk_f_row += float_format(emp_risk_f / num_seeds)\n",
    "        test_risk_f_row +=  float_format(test_risk_f / num_seeds)        \n",
    "        bound_row += float_format(bound / num_seeds)\n",
    "        kl_row += kl_format(int(kl / num_seeds))\n",
    "        fixed_lambda_row +=  lambda_format(int(np.log10(fixed_lambda / num_seeds)))\n",
    "        optimal_lambda_row += optimal_lambda_format(int(sum_optimal_lambda / num_seeds))\n",
    "    \n",
    "    # calculate PAC-Bayes bound and risks for best models with respect to the PAC-Bayes bound.\n",
    "    emp_risk = 0.\n",
    "    test_risk = 0.\n",
    "    emp_risk_f = 0.\n",
    "    test_risk_f = 0.    \n",
    "    bound = 0.\n",
    "    kl = 0.\n",
    "    fixed_lambda = 0.\n",
    "    sum_optimal_lambda = 0.    \n",
    "    for seed in seeds:\n",
    "        data = json.load(open('./bounds/{}/pac-bayes-{}.json'.format(model, seed)))\n",
    "        data_f = json.load(open('./bounds/{}/pac-bayes-{}-det.json'.format(model, seed)))\n",
    "        \n",
    "        best_l = 0\n",
    "        best_bound = np.finfo(np.float(0.)).max\n",
    "        best_terms = {}\n",
    "        best_terms_f = {}\n",
    "        for k, terms in data.items():\n",
    "            optimal_lambda, optimized_pb_bound = get_optimal(terms)\n",
    "            if optimized_pb_bound < best_bound:\n",
    "                best_l = optimal_lambda\n",
    "                best_terms = terms\n",
    "                best_bound = optimized_pb_bound\n",
    "                best_terms_f = data_f[k]               \n",
    "\n",
    "        print('\\r', model, 'PAC-Bayes', seed, best_bound, best_l, best_terms['lambda'], end='')\n",
    "\n",
    "        emp_risk += best_terms['train-zero-one-loss']\n",
    "        test_risk += best_terms['test-zero-one-loss']\n",
    "        emp_risk_f += best_terms_f['train-zero-one-loss']\n",
    "        test_risk_f += best_terms_f['test-zero-one-loss']\n",
    "        bound += best_bound\n",
    "        kl +=  int(best_terms['kl'])\n",
    "        fixed_lambda += best_terms['lambda']\n",
    "        sum_optimal_lambda += best_l\n",
    "        \n",
    "    print('\\r', end='')\n",
    "\n",
    "    emp_risk_row += float_format(emp_risk / num_seeds) + line_break\n",
    "    test_risk_row += float_format(test_risk / num_seeds ) + line_break\n",
    "    emp_risk_f_row += float_format(emp_risk_f / num_seeds) + line_break\n",
    "    test_risk_f_row += float_format(test_risk_f / num_seeds ) + line_break    \n",
    "    bound_row += float_format(bound / num_seeds) + line_break\n",
    "    kl_row += kl_format( int(kl / num_seeds))  + line_break\n",
    "    fixed_lambda_row += lambda_format(int(np.log10(fixed_lambda / num_seeds))) + line_break\n",
    "    optimal_lambda_row += optimal_lambda_format(int(sum_optimal_lambda / num_seeds)) + line_break\n",
    "\n",
    "    results.append('\\n'.join([emp_risk_f_row, test_risk_f_row, emp_risk_row, test_risk_row, bound_row, kl_row, fixed_lambda_row, optimal_lambda_row]))\n",
    "\n",
    "    if model == 'cnn':\n",
    "        results.append('\\n\\\\midrule\\n\\\\multicolumn{2}{l}{\\\\auslan} \\\\\\\\\\n')\n"
   ]
  },
  {
   "cell_type": "code",
   "execution_count": 9,
   "metadata": {},
   "outputs": [
    {
     "name": "stdout",
     "output_type": "stream",
     "text": [
      "& $\\Runhat(\\fbf^*)$ & $0.146$ & $0.131$ & $0.308$ \\\\\n",
      "& $\\Run(\\fbf^*)$ & $0.185$ & $0.167$ & $0.315$ \\\\\n",
      "& $\\Runhat(\\Qcal)$ & $0.172$ & $0.170$ & $0.323$ \\\\\n",
      "& $\\Run(\\Qcal)$ & $0.203$ & $0.197$ & $0.327$ \\\\\n",
      "& Bound & $0.733$ & $0.718$ & $0.437$ \\\\\n",
      "& $\\KL$ & $32\\,756$ & $30\\,894$ & $1\\,333$ \\\\\n",
      "& $\\lambda\\times m$ & $10^5$ & $10^5$ & $10^4$ \\\\\n",
      "& $\\widehat{\\lambda}\\times m$ & $122\\,781$ & $119\\,687$ & $24\\,295$ \\\\\n",
      "\\midrule\n",
      "\\multicolumn{2}{l}{\\auslan} \\\\\n",
      "& $\\Runhat(\\fbf^*)$ & $0.193$ & $0.190$ & $0.263$ \\\\\n",
      "& $\\Run(\\fbf^*)$ & $0.182$ & $0.182$ & $0.216$ \\\\\n",
      "& $\\Runhat(\\Qcal)$ & $0.199$ & $0.195$ & $0.267$ \\\\\n",
      "& $\\Run(\\Qcal)$ & $0.186$ & $0.185$ & $0.220$ \\\\\n",
      "& Bound & $0.419$ & $0.417$ & $0.361$ \\\\\n",
      "& $\\KL$ & $9\\,769$ & $10\\,018$ & $2\\,054$ \\\\\n",
      "& $\\lambda\\times m$ & $10^5$ & $10^5$ & $10^4$ \\\\\n",
      "& $\\widehat{\\lambda}\\times m$ & $95\\,683$ & $97\\,379$ & $45\\,198$ \\\\\n"
     ]
    }
   ],
   "source": [
    "print(''.join(results).replace(',', '\\\\,').replace('&\\\\\\\\', '\\\\\\\\'))"
   ]
  },
  {
   "cell_type": "code",
   "execution_count": null,
   "metadata": {},
   "outputs": [],
   "source": []
  }
 ],
 "metadata": {
  "@webio": {
   "lastCommId": null,
   "lastKernelId": null
  },
  "kernelspec": {
   "display_name": "Python 3",
   "language": "python",
   "name": "python3"
  },
  "language_info": {
   "codemirror_mode": {
    "name": "ipython",
    "version": 3
   },
   "file_extension": ".py",
   "mimetype": "text/x-python",
   "name": "python",
   "nbconvert_exporter": "python",
   "pygments_lexer": "ipython3",
   "version": "3.7.4"
  },
  "pycharm": {
   "stem_cell": {
    "cell_type": "raw",
    "metadata": {
     "collapsed": false
    },
    "source": []
   }
  }
 },
 "nbformat": 4,
 "nbformat_minor": 2
}
